{
 "cells": [
  {
   "cell_type": "code",
   "execution_count": 1,
   "metadata": {},
   "outputs": [],
   "source": [
    "import pandas as pd"
   ]
  },
  {
   "cell_type": "code",
   "execution_count": 2,
   "metadata": {},
   "outputs": [],
   "source": [
    "dat = pd.read_csv('../data/raw/nwtco.csv')"
   ]
  },
  {
   "cell_type": "code",
   "execution_count": 3,
   "metadata": {},
   "outputs": [
    {
     "data": {
      "text/html": [
       "<div>\n",
       "<style scoped>\n",
       "    .dataframe tbody tr th:only-of-type {\n",
       "        vertical-align: middle;\n",
       "    }\n",
       "\n",
       "    .dataframe tbody tr th {\n",
       "        vertical-align: top;\n",
       "    }\n",
       "\n",
       "    .dataframe thead th {\n",
       "        text-align: right;\n",
       "    }\n",
       "</style>\n",
       "<table border=\"1\" class=\"dataframe\">\n",
       "  <thead>\n",
       "    <tr style=\"text-align: right;\">\n",
       "      <th></th>\n",
       "      <th>Unnamed: 0</th>\n",
       "      <th>seqno</th>\n",
       "      <th>instit</th>\n",
       "      <th>histol</th>\n",
       "      <th>stage</th>\n",
       "      <th>study</th>\n",
       "      <th>rel</th>\n",
       "      <th>edrel</th>\n",
       "      <th>age</th>\n",
       "      <th>in.subcohort</th>\n",
       "    </tr>\n",
       "  </thead>\n",
       "  <tbody>\n",
       "    <tr>\n",
       "      <th>0</th>\n",
       "      <td>1</td>\n",
       "      <td>1</td>\n",
       "      <td>2</td>\n",
       "      <td>2</td>\n",
       "      <td>1</td>\n",
       "      <td>3</td>\n",
       "      <td>0</td>\n",
       "      <td>6075</td>\n",
       "      <td>25</td>\n",
       "      <td>False</td>\n",
       "    </tr>\n",
       "    <tr>\n",
       "      <th>1</th>\n",
       "      <td>2</td>\n",
       "      <td>2</td>\n",
       "      <td>1</td>\n",
       "      <td>1</td>\n",
       "      <td>2</td>\n",
       "      <td>3</td>\n",
       "      <td>0</td>\n",
       "      <td>4121</td>\n",
       "      <td>50</td>\n",
       "      <td>False</td>\n",
       "    </tr>\n",
       "    <tr>\n",
       "      <th>2</th>\n",
       "      <td>3</td>\n",
       "      <td>3</td>\n",
       "      <td>2</td>\n",
       "      <td>2</td>\n",
       "      <td>1</td>\n",
       "      <td>3</td>\n",
       "      <td>0</td>\n",
       "      <td>6069</td>\n",
       "      <td>9</td>\n",
       "      <td>False</td>\n",
       "    </tr>\n",
       "    <tr>\n",
       "      <th>3</th>\n",
       "      <td>4</td>\n",
       "      <td>4</td>\n",
       "      <td>2</td>\n",
       "      <td>1</td>\n",
       "      <td>4</td>\n",
       "      <td>3</td>\n",
       "      <td>0</td>\n",
       "      <td>6200</td>\n",
       "      <td>28</td>\n",
       "      <td>True</td>\n",
       "    </tr>\n",
       "    <tr>\n",
       "      <th>4</th>\n",
       "      <td>5</td>\n",
       "      <td>5</td>\n",
       "      <td>2</td>\n",
       "      <td>2</td>\n",
       "      <td>2</td>\n",
       "      <td>3</td>\n",
       "      <td>0</td>\n",
       "      <td>1244</td>\n",
       "      <td>55</td>\n",
       "      <td>False</td>\n",
       "    </tr>\n",
       "  </tbody>\n",
       "</table>\n",
       "</div>"
      ],
      "text/plain": [
       "   Unnamed: 0  seqno  instit  histol  stage  study  rel  edrel  age  \\\n",
       "0           1      1       2       2      1      3    0   6075   25   \n",
       "1           2      2       1       1      2      3    0   4121   50   \n",
       "2           3      3       2       2      1      3    0   6069    9   \n",
       "3           4      4       2       1      4      3    0   6200   28   \n",
       "4           5      5       2       2      2      3    0   1244   55   \n",
       "\n",
       "   in.subcohort  \n",
       "0         False  \n",
       "1         False  \n",
       "2         False  \n",
       "3          True  \n",
       "4         False  "
      ]
     },
     "execution_count": 3,
     "metadata": {},
     "output_type": "execute_result"
    }
   ],
   "source": [
    "dat.head()"
   ]
  },
  {
   "cell_type": "markdown",
   "metadata": {},
   "source": [
    "From: https://vincentarelbundock.github.io/Rdatasets/doc/survival/nwtco.html\n",
    "\n",
    "## Data from the National Wilm's Tumor Study\n",
    "### Description\n",
    "Measurement error example. Tumor histology predicts survival, but prediction is stronger with central lab histology than with the local institution determination.\n",
    "\n",
    "### Usage\n",
    "nwtco\n",
    "\n",
    "### Format\n",
    "A data frame with 4028 observations on the following 9 variables.\n",
    "\n",
    "##### seqno\n",
    "id number\n",
    "\n",
    "##### instit\n",
    "Histology from local institution\n",
    "\n",
    "##### histol\n",
    "Histology from central lab\n",
    "\n",
    "##### stage\n",
    "Disease stage\n",
    "\n",
    "##### study\n",
    "study\n",
    "\n",
    "##### rel\n",
    "indicator for relapse\n",
    "\n",
    "##### edrel\n",
    "time to relapse\n",
    "\n",
    "##### age\n",
    "age in months\n",
    "\n",
    "##### in.subcohort\n",
    "Included in the subcohort for the example in the paper\n",
    "\n",
    "### References\n",
    "NE Breslow and N Chatterjee (1999), Design and analysis of two-phase studies with binary outcome applied to Wilms tumour prognosis. Applied Statistics 48, 457–68.\n",
    "\n",
    "### Examples\n",
    "```\n",
    "with(nwtco, table(instit,histol))\n",
    "anova(coxph(Surv(edrel,rel)~histol+instit,data=nwtco))\n",
    "anova(coxph(Surv(edrel,rel)~instit+histol,data=nwtco))\n",
    "```"
   ]
  },
  {
   "cell_type": "code",
   "execution_count": 5,
   "metadata": {},
   "outputs": [
    {
     "data": {
      "text/plain": [
       "17.80821917808219"
      ]
     },
     "execution_count": 5,
     "metadata": {},
     "output_type": "execute_result"
    }
   ],
   "source": [
    "6500/365"
   ]
  },
  {
   "cell_type": "code",
   "execution_count": 6,
   "metadata": {},
   "outputs": [
    {
     "data": {
      "text/plain": [
       "4088"
      ]
     },
     "execution_count": 6,
     "metadata": {},
     "output_type": "execute_result"
    }
   ],
   "source": [
    "dat.seqno.max()"
   ]
  },
  {
   "cell_type": "code",
   "execution_count": 9,
   "metadata": {},
   "outputs": [
    {
     "data": {
      "text/plain": [
       "array(['hs', 'haem', 'other', 'hsid', 'het', 'id', 'mother', 'blood'],\n",
       "      dtype=object)"
      ]
     },
     "execution_count": 9,
     "metadata": {},
     "output_type": "execute_result"
    }
   ],
   "source": [
    "dat['T.categ'].unique()"
   ]
  }
 ],
 "metadata": {
  "kernelspec": {
   "display_name": "Python 3",
   "language": "python",
   "name": "python3"
  },
  "language_info": {
   "codemirror_mode": {
    "name": "ipython",
    "version": 3
   },
   "file_extension": ".py",
   "mimetype": "text/x-python",
   "name": "python",
   "nbconvert_exporter": "python",
   "pygments_lexer": "ipython3",
   "version": "3.6.9"
  }
 },
 "nbformat": 4,
 "nbformat_minor": 2
}
