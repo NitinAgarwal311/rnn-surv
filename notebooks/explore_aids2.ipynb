{
 "cells": [
  {
   "cell_type": "code",
   "execution_count": 84,
   "metadata": {},
   "outputs": [],
   "source": [
    "import pandas as pd\n",
    "import numpy as np"
   ]
  },
  {
   "cell_type": "code",
   "execution_count": 4,
   "metadata": {},
   "outputs": [],
   "source": [
    "dat = pd.read_csv('../data/raw/Aids2.csv')"
   ]
  },
  {
   "cell_type": "code",
   "execution_count": 5,
   "metadata": {},
   "outputs": [
    {
     "data": {
      "text/html": [
       "<div>\n",
       "<style scoped>\n",
       "    .dataframe tbody tr th:only-of-type {\n",
       "        vertical-align: middle;\n",
       "    }\n",
       "\n",
       "    .dataframe tbody tr th {\n",
       "        vertical-align: top;\n",
       "    }\n",
       "\n",
       "    .dataframe thead th {\n",
       "        text-align: right;\n",
       "    }\n",
       "</style>\n",
       "<table border=\"1\" class=\"dataframe\">\n",
       "  <thead>\n",
       "    <tr style=\"text-align: right;\">\n",
       "      <th></th>\n",
       "      <th>Unnamed: 0</th>\n",
       "      <th>state</th>\n",
       "      <th>sex</th>\n",
       "      <th>diag</th>\n",
       "      <th>death</th>\n",
       "      <th>status</th>\n",
       "      <th>T.categ</th>\n",
       "      <th>age</th>\n",
       "    </tr>\n",
       "  </thead>\n",
       "  <tbody>\n",
       "    <tr>\n",
       "      <th>0</th>\n",
       "      <td>1</td>\n",
       "      <td>NSW</td>\n",
       "      <td>M</td>\n",
       "      <td>10905</td>\n",
       "      <td>11081</td>\n",
       "      <td>D</td>\n",
       "      <td>hs</td>\n",
       "      <td>35</td>\n",
       "    </tr>\n",
       "    <tr>\n",
       "      <th>1</th>\n",
       "      <td>2</td>\n",
       "      <td>NSW</td>\n",
       "      <td>M</td>\n",
       "      <td>11029</td>\n",
       "      <td>11096</td>\n",
       "      <td>D</td>\n",
       "      <td>hs</td>\n",
       "      <td>53</td>\n",
       "    </tr>\n",
       "    <tr>\n",
       "      <th>2</th>\n",
       "      <td>3</td>\n",
       "      <td>NSW</td>\n",
       "      <td>M</td>\n",
       "      <td>9551</td>\n",
       "      <td>9983</td>\n",
       "      <td>D</td>\n",
       "      <td>hs</td>\n",
       "      <td>42</td>\n",
       "    </tr>\n",
       "    <tr>\n",
       "      <th>3</th>\n",
       "      <td>4</td>\n",
       "      <td>NSW</td>\n",
       "      <td>M</td>\n",
       "      <td>9577</td>\n",
       "      <td>9654</td>\n",
       "      <td>D</td>\n",
       "      <td>haem</td>\n",
       "      <td>44</td>\n",
       "    </tr>\n",
       "    <tr>\n",
       "      <th>4</th>\n",
       "      <td>5</td>\n",
       "      <td>NSW</td>\n",
       "      <td>M</td>\n",
       "      <td>10015</td>\n",
       "      <td>10290</td>\n",
       "      <td>D</td>\n",
       "      <td>hs</td>\n",
       "      <td>39</td>\n",
       "    </tr>\n",
       "  </tbody>\n",
       "</table>\n",
       "</div>"
      ],
      "text/plain": [
       "   Unnamed: 0 state sex   diag  death status T.categ  age\n",
       "0           1   NSW   M  10905  11081      D      hs   35\n",
       "1           2   NSW   M  11029  11096      D      hs   53\n",
       "2           3   NSW   M   9551   9983      D      hs   42\n",
       "3           4   NSW   M   9577   9654      D    haem   44\n",
       "4           5   NSW   M  10015  10290      D      hs   39"
      ]
     },
     "execution_count": 5,
     "metadata": {},
     "output_type": "execute_result"
    }
   ],
   "source": [
    "dat.head()"
   ]
  },
  {
   "cell_type": "code",
   "execution_count": 37,
   "metadata": {},
   "outputs": [],
   "source": [
    "dat.drop('Unnamed: 0', axis=1, inplace=True)"
   ]
  },
  {
   "cell_type": "markdown",
   "metadata": {},
   "source": [
    "From: https://vincentarelbundock.github.io/Rdatasets/doc/MASS/Aids2.html\n",
    "\n",
    "## Australian AIDS Survival Data\n",
    "### Description\n",
    "Data on patients diagnosed with AIDS in Australia before 1 July 1991.\n",
    "\n",
    "### Usage\n",
    "Aids2\n",
    "\n",
    "### Format\n",
    "This data frame contains 2843 rows and the following columns:\n",
    "\n",
    "##### state\n",
    "Grouped state of origin: \"NSW \"includes ACT and \"other\" is WA, SA, NT and TAS.\n",
    "\n",
    "##### sex\n",
    "Sex of patient.\n",
    "\n",
    "##### diag\n",
    "(Julian) date of diagnosis.\n",
    "\n",
    "##### death\n",
    "(Julian) date of death or end of observation.\n",
    "\n",
    "##### status\n",
    "\"A\" (alive) or \"D\" (dead) at end of observation.\n",
    "\n",
    "##### T.categ\n",
    "Reported transmission category.\n",
    "\n",
    "##### age\n",
    "Age (years) at diagnosis.\n",
    "\n",
    "### Note\n",
    "This data set has been slightly jittered as a condition of its release, to ensure patient confidentiality.\n",
    "\n",
    "### Source\n",
    "Dr P. J. Solomon and the Australian National Centre in HIV Epidemiology and Clinical Research.\n",
    "\n",
    "### References\n",
    "Venables, W. N. and Ripley, B. D. (2002) Modern Applied Statistics with S. Fourth edition. Springer."
   ]
  },
  {
   "cell_type": "code",
   "execution_count": 7,
   "metadata": {},
   "outputs": [
    {
     "data": {
      "text/plain": [
       "array(['NSW', 'Other', 'QLD', 'VIC'], dtype=object)"
      ]
     },
     "execution_count": 7,
     "metadata": {},
     "output_type": "execute_result"
    }
   ],
   "source": [
    "dat.state.unique()"
   ]
  },
  {
   "cell_type": "code",
   "execution_count": 8,
   "metadata": {},
   "outputs": [
    {
     "data": {
      "text/plain": [
       "array(['D', 'A'], dtype=object)"
      ]
     },
     "execution_count": 8,
     "metadata": {},
     "output_type": "execute_result"
    }
   ],
   "source": [
    "dat.status.unique()"
   ]
  },
  {
   "cell_type": "code",
   "execution_count": 9,
   "metadata": {},
   "outputs": [
    {
     "data": {
      "text/plain": [
       "array(['hs', 'haem', 'other', 'hsid', 'het', 'id', 'mother', 'blood'],\n",
       "      dtype=object)"
      ]
     },
     "execution_count": 9,
     "metadata": {},
     "output_type": "execute_result"
    }
   ],
   "source": [
    "dat['T.categ'].unique()"
   ]
  },
  {
   "cell_type": "code",
   "execution_count": 78,
   "metadata": {},
   "outputs": [
    {
     "data": {
      "text/html": [
       "<div>\n",
       "<style scoped>\n",
       "    .dataframe tbody tr th:only-of-type {\n",
       "        vertical-align: middle;\n",
       "    }\n",
       "\n",
       "    .dataframe tbody tr th {\n",
       "        vertical-align: top;\n",
       "    }\n",
       "\n",
       "    .dataframe thead th {\n",
       "        text-align: right;\n",
       "    }\n",
       "</style>\n",
       "<table border=\"1\" class=\"dataframe\">\n",
       "  <thead>\n",
       "    <tr style=\"text-align: right;\">\n",
       "      <th></th>\n",
       "      <th>state</th>\n",
       "      <th>sex</th>\n",
       "      <th>T.categ</th>\n",
       "      <th>age</th>\n",
       "    </tr>\n",
       "  </thead>\n",
       "  <tbody>\n",
       "    <tr>\n",
       "      <th>0</th>\n",
       "      <td>NSW</td>\n",
       "      <td>M</td>\n",
       "      <td>hs</td>\n",
       "      <td>35</td>\n",
       "    </tr>\n",
       "    <tr>\n",
       "      <th>1</th>\n",
       "      <td>NSW</td>\n",
       "      <td>M</td>\n",
       "      <td>hs</td>\n",
       "      <td>53</td>\n",
       "    </tr>\n",
       "    <tr>\n",
       "      <th>2</th>\n",
       "      <td>NSW</td>\n",
       "      <td>M</td>\n",
       "      <td>hs</td>\n",
       "      <td>42</td>\n",
       "    </tr>\n",
       "    <tr>\n",
       "      <th>3</th>\n",
       "      <td>NSW</td>\n",
       "      <td>M</td>\n",
       "      <td>haem</td>\n",
       "      <td>44</td>\n",
       "    </tr>\n",
       "    <tr>\n",
       "      <th>4</th>\n",
       "      <td>NSW</td>\n",
       "      <td>M</td>\n",
       "      <td>hs</td>\n",
       "      <td>39</td>\n",
       "    </tr>\n",
       "    <tr>\n",
       "      <th>...</th>\n",
       "      <td>...</td>\n",
       "      <td>...</td>\n",
       "      <td>...</td>\n",
       "      <td>...</td>\n",
       "    </tr>\n",
       "    <tr>\n",
       "      <th>2838</th>\n",
       "      <td>Other</td>\n",
       "      <td>M</td>\n",
       "      <td>het</td>\n",
       "      <td>46</td>\n",
       "    </tr>\n",
       "    <tr>\n",
       "      <th>2839</th>\n",
       "      <td>Other</td>\n",
       "      <td>F</td>\n",
       "      <td>het</td>\n",
       "      <td>34</td>\n",
       "    </tr>\n",
       "    <tr>\n",
       "      <th>2840</th>\n",
       "      <td>Other</td>\n",
       "      <td>M</td>\n",
       "      <td>haem</td>\n",
       "      <td>49</td>\n",
       "    </tr>\n",
       "    <tr>\n",
       "      <th>2841</th>\n",
       "      <td>Other</td>\n",
       "      <td>M</td>\n",
       "      <td>hs</td>\n",
       "      <td>55</td>\n",
       "    </tr>\n",
       "    <tr>\n",
       "      <th>2842</th>\n",
       "      <td>Other</td>\n",
       "      <td>M</td>\n",
       "      <td>hs</td>\n",
       "      <td>37</td>\n",
       "    </tr>\n",
       "  </tbody>\n",
       "</table>\n",
       "<p>2843 rows × 4 columns</p>\n",
       "</div>"
      ],
      "text/plain": [
       "      state sex T.categ  age\n",
       "0       NSW   M      hs   35\n",
       "1       NSW   M      hs   53\n",
       "2       NSW   M      hs   42\n",
       "3       NSW   M    haem   44\n",
       "4       NSW   M      hs   39\n",
       "...     ...  ..     ...  ...\n",
       "2838  Other   M     het   46\n",
       "2839  Other   F     het   34\n",
       "2840  Other   M    haem   49\n",
       "2841  Other   M      hs   55\n",
       "2842  Other   M      hs   37\n",
       "\n",
       "[2843 rows x 4 columns]"
      ]
     },
     "execution_count": 78,
     "metadata": {},
     "output_type": "execute_result"
    }
   ],
   "source": [
    "X = dat.copy()[['state', 'sex', 'T.categ', 'age']]\n",
    "y = pd.DataFrame({\n",
    "    'tte': dat.death - dat.diag,\n",
    "    'event': [1 if val == 'D' else 0 for val in dat.status]\n",
    "})\n",
    "X"
   ]
  },
  {
   "cell_type": "code",
   "execution_count": 79,
   "metadata": {},
   "outputs": [],
   "source": [
    "from sklearn.preprocessing import OneHotEncoder, StandardScaler\n",
    "from sklearn.model_selection import train_test_split"
   ]
  },
  {
   "cell_type": "code",
   "execution_count": 80,
   "metadata": {},
   "outputs": [],
   "source": [
    "# Categorical boolean mask\n",
    "categorical_feature_mask = X.dtypes==object"
   ]
  },
  {
   "cell_type": "code",
   "execution_count": 91,
   "metadata": {},
   "outputs": [
    {
     "name": "stdout",
     "output_type": "stream",
     "text": [
      "Categoricals:  ['state', 'sex', 'T.categ'] \n",
      "Numerics:  ['age']\n"
     ]
    }
   ],
   "source": [
    "cat_names = X.columns[categorical_feature_mask].tolist()\n",
    "num_names = X.columns[~categorical_feature_mask].tolist()\n",
    "print('Categoricals: ', cat_names, '\\nNumerics: ', num_names)"
   ]
  },
  {
   "cell_type": "code",
   "execution_count": 83,
   "metadata": {},
   "outputs": [],
   "source": [
    "X_train, X_test, y_train, y_test = train_test_split(X, y, random_state=0)"
   ]
  },
  {
   "cell_type": "code",
   "execution_count": 63,
   "metadata": {},
   "outputs": [],
   "source": [
    "ohe = OneHotEncoder(sparse=False).fit(X_train[cat_names])\n",
    "scaler = StandardScaler().fit(X_train[num_names])"
   ]
  },
  {
   "cell_type": "code",
   "execution_count": 89,
   "metadata": {},
   "outputs": [],
   "source": [
    "X_train = np.concatenate(\n",
    "    (ohe.transform(X_train[cat_names]), scaler.transform(X_train[num_names])),\n",
    "    axis=1\n",
    ")"
   ]
  },
  {
   "cell_type": "code",
   "execution_count": 90,
   "metadata": {},
   "outputs": [],
   "source": [
    "X_test = np.concatenate(\n",
    "    (ohe.transform(X_test[cat_names]), scaler.transform(X_test[num_names])),\n",
    "    axis=1\n",
    ")"
   ]
  },
  {
   "cell_type": "code",
   "execution_count": null,
   "metadata": {},
   "outputs": [],
   "source": []
  },
  {
   "cell_type": "code",
   "execution_count": null,
   "metadata": {},
   "outputs": [],
   "source": []
  }
 ],
 "metadata": {
  "kernelspec": {
   "display_name": "Python 3",
   "language": "python",
   "name": "python3"
  },
  "language_info": {
   "codemirror_mode": {
    "name": "ipython",
    "version": 3
   },
   "file_extension": ".py",
   "mimetype": "text/x-python",
   "name": "python",
   "nbconvert_exporter": "python",
   "pygments_lexer": "ipython3",
   "version": "3.6.9"
  }
 },
 "nbformat": 4,
 "nbformat_minor": 2
}
